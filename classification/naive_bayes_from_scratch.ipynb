{
 "cells": [
  {
   "cell_type": "markdown",
   "id": "7f642629",
   "metadata": {},
   "source": [
    "# Naive Bayes Classifier from Scratch\n",
    "Implementation of Gaussian Naive Bayes classifier for Iris dataset classification"
   ]
  },
  {
   "cell_type": "markdown",
   "id": "bb3d7651",
   "metadata": {},
   "source": [
    "## 1. Data Loading & Exploration\n",
    "Loading Iris dataset and initial exploration of features"
   ]
  },
  {
   "cell_type": "code",
   "execution_count": 23,
   "id": "42b865c2",
   "metadata": {},
   "outputs": [],
   "source": [
    "from sklearn.datasets import load_iris\n",
    "from sklearn.model_selection import train_test_split\n",
    "from sklearn.preprocessing import StandardScaler\n",
    "from sklearn.metrics import confusion_matrix\n",
    "from sklearn.metrics import accuracy_score,confusion_matrix\n",
    "from scipy import stats\n",
    "import numpy as np\n",
    "import pandas as pd\n",
    "import seaborn as sns\n",
    "from matplotlib import pyplot as plt \n",
    "import math"
   ]
  },
  {
   "cell_type": "code",
   "execution_count": 2,
   "id": "47d2ea6c-f745-46a7-8e8e-d949d85e9f00",
   "metadata": {},
   "outputs": [
    {
     "data": {
      "text/html": [
       "<div>\n",
       "<style scoped>\n",
       "    .dataframe tbody tr th:only-of-type {\n",
       "        vertical-align: middle;\n",
       "    }\n",
       "\n",
       "    .dataframe tbody tr th {\n",
       "        vertical-align: top;\n",
       "    }\n",
       "\n",
       "    .dataframe thead th {\n",
       "        text-align: right;\n",
       "    }\n",
       "</style>\n",
       "<table border=\"1\" class=\"dataframe\">\n",
       "  <thead>\n",
       "    <tr style=\"text-align: right;\">\n",
       "      <th></th>\n",
       "      <th>sepal length (cm)</th>\n",
       "      <th>sepal width (cm)</th>\n",
       "      <th>petal length (cm)</th>\n",
       "      <th>petal width (cm)</th>\n",
       "    </tr>\n",
       "  </thead>\n",
       "  <tbody>\n",
       "    <tr>\n",
       "      <th>0</th>\n",
       "      <td>5.1</td>\n",
       "      <td>3.5</td>\n",
       "      <td>1.4</td>\n",
       "      <td>0.2</td>\n",
       "    </tr>\n",
       "    <tr>\n",
       "      <th>1</th>\n",
       "      <td>4.9</td>\n",
       "      <td>3.0</td>\n",
       "      <td>1.4</td>\n",
       "      <td>0.2</td>\n",
       "    </tr>\n",
       "    <tr>\n",
       "      <th>2</th>\n",
       "      <td>4.7</td>\n",
       "      <td>3.2</td>\n",
       "      <td>1.3</td>\n",
       "      <td>0.2</td>\n",
       "    </tr>\n",
       "    <tr>\n",
       "      <th>3</th>\n",
       "      <td>4.6</td>\n",
       "      <td>3.1</td>\n",
       "      <td>1.5</td>\n",
       "      <td>0.2</td>\n",
       "    </tr>\n",
       "    <tr>\n",
       "      <th>4</th>\n",
       "      <td>5.0</td>\n",
       "      <td>3.6</td>\n",
       "      <td>1.4</td>\n",
       "      <td>0.2</td>\n",
       "    </tr>\n",
       "    <tr>\n",
       "      <th>...</th>\n",
       "      <td>...</td>\n",
       "      <td>...</td>\n",
       "      <td>...</td>\n",
       "      <td>...</td>\n",
       "    </tr>\n",
       "    <tr>\n",
       "      <th>145</th>\n",
       "      <td>6.7</td>\n",
       "      <td>3.0</td>\n",
       "      <td>5.2</td>\n",
       "      <td>2.3</td>\n",
       "    </tr>\n",
       "    <tr>\n",
       "      <th>146</th>\n",
       "      <td>6.3</td>\n",
       "      <td>2.5</td>\n",
       "      <td>5.0</td>\n",
       "      <td>1.9</td>\n",
       "    </tr>\n",
       "    <tr>\n",
       "      <th>147</th>\n",
       "      <td>6.5</td>\n",
       "      <td>3.0</td>\n",
       "      <td>5.2</td>\n",
       "      <td>2.0</td>\n",
       "    </tr>\n",
       "    <tr>\n",
       "      <th>148</th>\n",
       "      <td>6.2</td>\n",
       "      <td>3.4</td>\n",
       "      <td>5.4</td>\n",
       "      <td>2.3</td>\n",
       "    </tr>\n",
       "    <tr>\n",
       "      <th>149</th>\n",
       "      <td>5.9</td>\n",
       "      <td>3.0</td>\n",
       "      <td>5.1</td>\n",
       "      <td>1.8</td>\n",
       "    </tr>\n",
       "  </tbody>\n",
       "</table>\n",
       "<p>150 rows × 4 columns</p>\n",
       "</div>"
      ],
      "text/plain": [
       "     sepal length (cm)  sepal width (cm)  petal length (cm)  petal width (cm)\n",
       "0                  5.1               3.5                1.4               0.2\n",
       "1                  4.9               3.0                1.4               0.2\n",
       "2                  4.7               3.2                1.3               0.2\n",
       "3                  4.6               3.1                1.5               0.2\n",
       "4                  5.0               3.6                1.4               0.2\n",
       "..                 ...               ...                ...               ...\n",
       "145                6.7               3.0                5.2               2.3\n",
       "146                6.3               2.5                5.0               1.9\n",
       "147                6.5               3.0                5.2               2.0\n",
       "148                6.2               3.4                5.4               2.3\n",
       "149                5.9               3.0                5.1               1.8\n",
       "\n",
       "[150 rows x 4 columns]"
      ]
     },
     "execution_count": 2,
     "metadata": {},
     "output_type": "execute_result"
    }
   ],
   "source": [
    "data = load_iris()\n",
    "iris = pd.DataFrame(data.data,columns = data.feature_names)\n",
    "species = pd.Series(data.target)\n",
    "iris"
   ]
  },
  {
   "cell_type": "markdown",
   "id": "43abce85",
   "metadata": {},
   "source": [
    "### Dataset Structure\n",
    "The Iris dataset contains 4 features:\n",
    "1. Sepal length (cm)\n",
    "2. Sepal width (cm)\n",
    "3. Petal length (cm)\n",
    "4. Petal width (cm)\n",
    "\n",
    "With 3 target classes:\n",
    "- 0: Iris Setosa\n",
    "- 1: Iris Versicolour\n",
    "- 2: Iris Virginica"
   ]
  },
  {
   "cell_type": "markdown",
   "id": "800e5e25",
   "metadata": {},
   "source": [
    "## 2. Feature Selection\n",
    "Using correlation analysis to select independent features"
   ]
  },
  {
   "cell_type": "code",
   "execution_count": 3,
   "id": "1948caaf",
   "metadata": {
    "lines_to_next_cell": 1
   },
   "outputs": [
    {
     "data": {
      "text/plain": [
       "<Axes: >"
      ]
     },
     "execution_count": 3,
     "metadata": {},
     "output_type": "execute_result"
    },
    {
     "data": {
      "image/png": "[encoded data removed]",
      "text/plain": [
       "<Figure size 640x480 with 2 Axes>"
      ]
     },
     "metadata": {},
     "output_type": "display_data"
    }
   ],
   "source": [
    "sns.heatmap(iris.corr())"
   ]
  },
  {
   "cell_type": "markdown",
   "id": "f7a3db26",
   "metadata": {},
   "source": [
    "**Feature Selection Rationale**:\n",
    "- High correlation between (petal length & petal width) and (sepal length & petal length)\n",
    "- Selected features with low correlation:\n",
    "  - Sepal width (cm)\n",
    "  - Petal length (cm)\n"
   ]
  },
  {
   "cell_type": "code",
   "execution_count": 4,
   "id": "09fb9f05-b769-40f6-b1a3-1532e3950811",
   "metadata": {},
   "outputs": [],
   "source": [
    "iris.drop(columns = [\"sepal length (cm)\",\"petal width (cm)\"],inplace=True)"
   ]
  },
  {
   "cell_type": "markdown",
   "id": "1f848607",
   "metadata": {},
   "source": [
    "## 3. Data Preprocessing\n",
    "Splitting data into training and test sets (73-27 split)"
   ]
  },
  {
   "cell_type": "code",
   "execution_count": 5,
   "id": "8ec646b1-0ead-45d2-b06a-e5250c4ae8c7",
   "metadata": {},
   "outputs": [
    {
     "data": {
      "text/html": [
       "<div>\n",
       "<style scoped>\n",
       "    .dataframe tbody tr th:only-of-type {\n",
       "        vertical-align: middle;\n",
       "    }\n",
       "\n",
       "    .dataframe tbody tr th {\n",
       "        vertical-align: top;\n",
       "    }\n",
       "\n",
       "    .dataframe thead th {\n",
       "        text-align: right;\n",
       "    }\n",
       "</style>\n",
       "<table border=\"1\" class=\"dataframe\">\n",
       "  <thead>\n",
       "    <tr style=\"text-align: right;\">\n",
       "      <th></th>\n",
       "      <th>sepal width (cm)</th>\n",
       "      <th>petal length (cm)</th>\n",
       "    </tr>\n",
       "  </thead>\n",
       "  <tbody>\n",
       "    <tr>\n",
       "      <th>count</th>\n",
       "      <td>150.000000</td>\n",
       "      <td>150.000000</td>\n",
       "    </tr>\n",
       "    <tr>\n",
       "      <th>mean</th>\n",
       "      <td>3.057333</td>\n",
       "      <td>3.758000</td>\n",
       "    </tr>\n",
       "    <tr>\n",
       "      <th>std</th>\n",
       "      <td>0.435866</td>\n",
       "      <td>1.765298</td>\n",
       "    </tr>\n",
       "    <tr>\n",
       "      <th>min</th>\n",
       "      <td>2.000000</td>\n",
       "      <td>1.000000</td>\n",
       "    </tr>\n",
       "    <tr>\n",
       "      <th>25%</th>\n",
       "      <td>2.800000</td>\n",
       "      <td>1.600000</td>\n",
       "    </tr>\n",
       "    <tr>\n",
       "      <th>50%</th>\n",
       "      <td>3.000000</td>\n",
       "      <td>4.350000</td>\n",
       "    </tr>\n",
       "    <tr>\n",
       "      <th>75%</th>\n",
       "      <td>3.300000</td>\n",
       "      <td>5.100000</td>\n",
       "    </tr>\n",
       "    <tr>\n",
       "      <th>max</th>\n",
       "      <td>4.400000</td>\n",
       "      <td>6.900000</td>\n",
       "    </tr>\n",
       "  </tbody>\n",
       "</table>\n",
       "</div>"
      ],
      "text/plain": [
       "       sepal width (cm)  petal length (cm)\n",
       "count        150.000000         150.000000\n",
       "mean           3.057333           3.758000\n",
       "std            0.435866           1.765298\n",
       "min            2.000000           1.000000\n",
       "25%            2.800000           1.600000\n",
       "50%            3.000000           4.350000\n",
       "75%            3.300000           5.100000\n",
       "max            4.400000           6.900000"
      ]
     },
     "execution_count": 5,
     "metadata": {},
     "output_type": "execute_result"
    }
   ],
   "source": [
    "iris.describe()"
   ]
  },
  {
   "cell_type": "code",
   "execution_count": 6,
   "id": "b6305f57-2b40-4d8f-9ba3-c5b490534054",
   "metadata": {},
   "outputs": [
    {
     "data": {
      "text/plain": [
       "<Axes: xlabel='petal length (cm)', ylabel='Count'>"
      ]
     },
     "execution_count": 6,
     "metadata": {},
     "output_type": "execute_result"
    },
    {
     "data": {
      "image/png": "[encoded data removed]",
      "text/plain": [
       "<Figure size 640x480 with 2 Axes>"
      ]
     },
     "metadata": {},
     "output_type": "display_data"
    }
   ],
   "source": [
    "fig , axes = plt.subplots(1,2,sharey=True)\n",
    "sns.histplot(iris , ax=axes[0] , x = 'sepal width (cm)' , kde=True)\n",
    "sns.histplot(iris , ax=axes[1] , x = 'petal length (cm)' , kde=True)"
   ]
  },
  {
   "cell_type": "code",
   "execution_count": 7,
   "id": "5fa8051f-312d-4426-ae1b-ed32f6d8d93c",
   "metadata": {},
   "outputs": [],
   "source": [
    "X_train,X_test,y_train,y_test = train_test_split(\n",
    "    iris,species, test_size=0.27, random_state=42,shuffle=True)"
   ]
  },
  {
   "cell_type": "markdown",
   "id": "dcf88cb4",
   "metadata": {},
   "source": [
    "## 4. Naive Bayes Implementation"
   ]
  },
  {
   "cell_type": "markdown",
   "id": "dcdb9f3a",
   "metadata": {},
   "source": [
    "### 4.1 Prior Probability Calculation\n",
    "Calculates class prior probabilities using:\n",
    "$$ P(y=c) = \\frac{N_c}{N} $$\n",
    "Where:\n",
    "- \\( N_c \\) = Number of instances in class c\n",
    "- \\( N \\) = Total number of instances"
   ]
  },
  {
   "cell_type": "code",
   "execution_count": 8,
   "id": "5f4275ec",
   "metadata": {
    "lines_to_next_cell": 1
   },
   "outputs": [],
   "source": [
    "def calculate_prior(y_train):\n",
    "    classes,counts = np.unique(y_train,return_counts=True)\n",
    "    priors = counts/sum(counts)\n",
    "    return priors"
   ]
  },
  {
   "cell_type": "code",
   "execution_count": 9,
   "id": "f2db5b04-62dc-498f-9f08-415aa8f357bb",
   "metadata": {},
   "outputs": [],
   "source": [
    "for c in np.unique(y_train):\n",
    "    unique_values = X_train.loc[y_train == c, \"sepal width (cm)\"].unique()"
   ]
  },
  {
   "cell_type": "markdown",
   "id": "80640dd1",
   "metadata": {},
   "source": [
    "### 4.2 Gaussian Parameters Calculation\n",
    "Calculates mean (μ) and standard deviation (σ) for each feature per class:\n",
    "$$ \\mu_{c,i} = \\frac{1}{N_c} \\sum_{x \\in c} x_i $$\n",
    "$$ \\sigma_{c,i} = \\sqrt{\\frac{1}{N_c} \\sum_{x \\in c} (x_i - \\mu_{c,i})^2} $$"
   ]
  },
  {
   "cell_type": "code",
   "execution_count": 10,
   "id": "86933ac4",
   "metadata": {
    "lines_to_next_cell": 1
   },
   "outputs": [],
   "source": [
    "def calculate_mean_var_byclass(X_train,y_train,i,c):\n",
    "    mean = X_train.loc[y_train == c, X_train.columns[i]].mean()\n",
    "    std= X_train.loc[y_train == c, X_train.columns[i]].std()\n",
    "  \n",
    "    return mean,std"
   ]
  },
  {
   "cell_type": "markdown",
   "id": "59759edb",
   "metadata": {},
   "source": [
    "### 4.3 Likelihood Calculation\n",
    "Computes Gaussian probability density using:\n",
    "$$ P(x_i | y=c) = \\frac{1}{\\sqrt{2\\pi\\sigma^2}} e^{-\\frac{(x_i - \\mu)^2}{2\\sigma^2}} $$\n",
    "Handles numerical stability by setting minimum σ threshold"
   ]
  },
  {
   "cell_type": "code",
   "execution_count": 11,
   "id": "1223af08",
   "metadata": {
    "lines_to_next_cell": 1
   },
   "outputs": [],
   "source": [
    "def calculate_likelihood(X_train, val, i, c):\n",
    "    mean, std = calculate_mean_var_byclass(X_train, y_train, i, c)\n",
    "\n",
    "    \n",
    "\n",
    "    if std <= 1e-6:  # Check for very small standard deviation\n",
    "        std = 1e-6  # Assign a reasonable minimum std to avoid large p(x)\n",
    "    \n",
    "  \n",
    "    p = (1 / (np.sqrt(2 * np.pi) * std)) * np.exp(-((val - mean) ** 2) / (2 * std ** 2))\n",
    "    \n",
    "    \n",
    "    return p"
   ]
  },
  {
   "cell_type": "code",
   "execution_count": 14,
   "id": "5054c150-1ed8-4b29-9faa-65cd49360d35",
   "metadata": {},
   "outputs": [
    {
     "data": {
      "text/plain": [
       "array([0, 1, 2])"
      ]
     },
     "execution_count": 14,
     "metadata": {},
     "output_type": "execute_result"
    }
   ],
   "source": [
    "classes = species.unique()\n",
    "classes"
   ]
  },
  {
   "cell_type": "markdown",
   "id": "53d6f23a",
   "metadata": {},
   "source": [
    "### 4.4 Posterior Calculation & Prediction\n",
    "Implements Naive Bayes classification using:\n",
    "$$ P(y=c | x) \\propto P(y=c) \\prod_{i=1}^n P(x_i | y=c) $$\n",
    "Returns class with maximum posterior probability"
   ]
  },
  {
   "cell_type": "code",
   "execution_count": 15,
   "id": "a87c9a80",
   "metadata": {
    "lines_to_next_cell": 1
   },
   "outputs": [],
   "source": [
    "def naive_bayesian_gaussian(X_train,y_train,val):\n",
    "    priors = calculate_prior(y_train)\n",
    "    n= X_train.shape[1]\n",
    "    likelihood=np.zeros(len(classes))\n",
    "    for c in classes:\n",
    "        p=1\n",
    "        for i in range(n):\n",
    "            p*=calculate_likelihood(X_train,val.iloc[i],i,c)\n",
    "        likelihood[c]=p\n",
    "\n",
    "    posterior=priors*likelihood \n",
    "    return np.argmax(posterior)\n",
    "            "
   ]
  },
  {
   "cell_type": "code",
   "execution_count": 16,
   "id": "0426a30b-5ad4-4fd4-94bc-9596b9a0b810",
   "metadata": {},
   "outputs": [
    {
     "data": {
      "text/plain": [
       "2"
      ]
     },
     "execution_count": 16,
     "metadata": {},
     "output_type": "execute_result"
    }
   ],
   "source": [
    "naive_bayesian_gaussian(X_train,y_train,X_test.iloc[19])"
   ]
  },
  {
   "cell_type": "markdown",
   "id": "05f9e4c3",
   "metadata": {},
   "source": [
    "## 5. Model Evaluation\n",
    "Testing classifier performance on test set"
   ]
  },
  {
   "cell_type": "code",
   "execution_count": 17,
   "id": "b2dad70f-5445-4fd9-9935-0543d73839ae",
   "metadata": {},
   "outputs": [],
   "source": [
    "def prediction(X_train,y_train,X_test):\n",
    "    n=y_test.shape[0]\n",
    "    preds=np.zeros(n)\n",
    "    for x in range(n):\n",
    "        preds[x]=naive_bayesian_gaussian(X_train,y_train,X_test.iloc[x])\n",
    "    return preds   "
   ]
  },
  {
   "cell_type": "code",
   "execution_count": 18,
   "id": "5b1ab8d3",
   "metadata": {},
   "outputs": [],
   "source": [
    "preds = prediction(X_train,y_train,X_test)"
   ]
  },
  {
   "cell_type": "code",
   "execution_count": 25,
   "id": "bf9bf57e-cf20-4121-a620-d6a5883dc178",
   "metadata": {},
   "outputs": [
    {
     "data": {
      "image/png": "[encoded data removed]",
      "text/plain": [
       "<Figure size 800x600 with 2 Axes>"
      ]
     },
     "metadata": {},
     "output_type": "display_data"
    }
   ],
   "source": [
    "cm = confusion_matrix(y_test.to_numpy(), preds)\n",
    "\n",
    "# Plot confusion matrix\n",
    "plt.figure(figsize=(8, 6))\n",
    "sns.heatmap(cm, annot=True, fmt=\"d\", cmap=\"Blues\", xticklabels=['Predicted 0', 'Predicted 1'], yticklabels=['True 0', 'True 1'])\n",
    "plt.ylabel('True labels')\n",
    "plt.xlabel('Predicted labels')\n",
    "plt.title('Confusion Matrix')\n",
    "plt.show()"
   ]
  }
 ],
 "metadata": {
  "jupytext": {
   "cell_metadata_filter": "-all",
   "main_language": "python",
   "notebook_metadata_filter": "-all"
  },
  "kernelspec": {
   "display_name": "Python 3 (ipykernel)",
   "language": "python",
   "name": "python3"
  },
  "language_info": {
   "codemirror_mode": {
    "name": "ipython",
    "version": 3
   },
   "file_extension": ".py",
   "mimetype": "text/x-python",
   "name": "python",
   "nbconvert_exporter": "python",
   "pygments_lexer": "ipython3",
   "version": "3.11.5"
  }
 },
 "nbformat": 4,
 "nbformat_minor": 5
}
