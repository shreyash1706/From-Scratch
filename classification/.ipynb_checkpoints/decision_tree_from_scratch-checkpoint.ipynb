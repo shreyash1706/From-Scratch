{
 "cells": [
  {
   "cell_type": "markdown",
   "id": "17f6ab37",
   "metadata": {},
   "source": [
    "# Decision Tree Classifier from Scratch\n",
    "Implementation of a decision tree classifier for loan approval prediction"
   ]
  },
  {
   "cell_type": "markdown",
   "id": "a4fa38fc",
   "metadata": {},
   "source": [
    "## 1. Data Loading & Preprocessing\n",
    "Loading loan approval dataset and initial exploration"
   ]
  },
  {
   "cell_type": "code",
   "execution_count": null,
   "id": "803b2dbc",
   "metadata": {
    "lines_to_next_cell": 1
   },
   "outputs": [],
   "source": [
    "import numpy as np \n",
    "...\n",
    "loan_df = pd.read_csv('loan.csv')"
   ]
  },
  {
   "cell_type": "markdown",
   "id": "cd609336",
   "metadata": {},
   "source": [
    "### Dataset Overview\n",
    "The dataset contains:\n",
    "- **Features**:\n",
    "  - Demographic information (age, gender, marital status)\n",
    "  - Financial information (income, credit score)\n",
    "  - Education level and occupation\n",
    "- **Target**: Loan status (Approved/Denied)\n",
    "\n",
    "**Initial Preprocessing**:\n",
    "- Mapping categorical variables to numerical values\n",
    "- Dropping high-cardinality features (occupation)"
   ]
  },
  {
   "cell_type": "markdown",
   "id": "57206e5e",
   "metadata": {},
   "source": [
    "## 2. Core Algorithm Components"
   ]
  },
  {
   "cell_type": "markdown",
   "id": "9d374230",
   "metadata": {},
   "source": [
    "### 2.1 Entropy Calculation\n",
    "Measures impurity using Shannon entropy:\n",
    "$$ H(S) = -\\sum_{i=1}^c p_i \\log_2 p_i $$\n",
    "Where $p_i$ is the proportion of class $i$ in set $S$"
   ]
  },
  {
   "cell_type": "code",
   "execution_count": null,
   "id": "c44d7b95",
   "metadata": {
    "lines_to_next_cell": 1
   },
   "outputs": [],
   "source": [
    "def entropy(p):\n",
    "    ..."
   ]
  },
  {
   "cell_type": "markdown",
   "id": "2f7a4a3b",
   "metadata": {},
   "source": [
    "### 2.2 Information Gain\n",
    "Calculates reduction in entropy after split:\n",
    "$$ IG(S,A) = H(S) - \\sum_{t\\in T} \\frac{|S_t|}{|S|} H(S_t) $$\n",
    "Where:\n",
    "- $H(S)$ = entropy of parent node\n",
    "- $S_t$ = subset of data for split $t$"
   ]
  },
  {
   "cell_type": "code",
   "execution_count": null,
   "id": "c516e166",
   "metadata": {
    "lines_to_next_cell": 1
   },
   "outputs": [],
   "source": [
    "def information_gain(X, y, indices, feature):\n",
    "    ..."
   ]
  },
  {
   "cell_type": "markdown",
   "id": "8a940db1",
   "metadata": {},
   "source": [
    "### 2.3 Splitting Criteria\n",
    "Custom splitting logic for different feature types:\n",
    "- **Numerical**: Threshold-based splits (age > 29)\n",
    "- **Categorical**: Group-based splits (education levels)\n",
    "- **Binary**: Direct value splits"
   ]
  },
  {
   "cell_type": "code",
   "execution_count": null,
   "id": "741ab948",
   "metadata": {
    "lines_to_next_cell": 1
   },
   "outputs": [],
   "source": [
    "def splitting(X, indices, feature):\n",
    "    ..."
   ]
  },
  {
   "cell_type": "markdown",
   "id": "a8d4149c",
   "metadata": {},
   "source": [
    "## 3. Data Exploration & Feature Engineering"
   ]
  },
  {
   "cell_type": "markdown",
   "id": "4579f54d",
   "metadata": {},
   "source": [
    "### Feature-Target Relationships\n",
    "Visualizing relationships between key features and loan status"
   ]
  },
  {
   "cell_type": "code",
   "execution_count": null,
   "id": "c4366e11",
   "metadata": {
    "lines_to_next_cell": 1
   },
   "outputs": [],
   "source": [
    "# Enhanced feature visualization\n",
    "plt.figure(figsize=(15, 5))\n",
    "\n",
    "# Age vs Loan Status\n",
    "plt.subplot(1, 3, 1)\n",
    "sns.boxplot(x=y, y=X['age'])\n",
    "plt.title('Age Distribution by Loan Status')\n",
    "plt.xticks([0, 1], ['Denied', 'Approved'])\n",
    "\n",
    "# Income vs Loan Status\n",
    "plt.subplot(1, 3, 2)\n",
    "sns.violinplot(x=y, y=X['income'])\n",
    "plt.title('Income Distribution by Loan Status')\n",
    "\n",
    "# Credit Score vs Loan Status\n",
    "plt.subplot(1, 3, 3)\n",
    "sns.histplot(data=X, x='credit_score', hue=y, element='step', stat='density')\n",
    "plt.title('Credit Score Distribution by Loan Status')\n",
    "\n",
    "plt.tight_layout()\n",
    "plt.show()"
   ]
  },
  {
   "cell_type": "markdown",
   "id": "db88f9fd",
   "metadata": {},
   "source": [
    "## 4. Tree Construction & Training"
   ]
  },
  {
   "cell_type": "markdown",
   "id": "d9e742ab",
   "metadata": {},
   "source": [
    "### Tree Building Process\n",
    "Recursive tree construction with depth control:\n",
    "- Maximum depth stopping criterion\n",
    "- Leaf node creation when pure node reached"
   ]
  },
  {
   "cell_type": "code",
   "execution_count": null,
   "id": "4948992e",
   "metadata": {
    "lines_to_next_cell": 1
   },
   "outputs": [],
   "source": [
    "def build_tree_recursive(...):\n",
    "    ..."
   ]
  },
  {
   "cell_type": "markdown",
   "id": "7d7dbf03",
   "metadata": {},
   "source": [
    "## 5. Model Evaluation & Visualization"
   ]
  },
  {
   "cell_type": "markdown",
   "id": "55b9aab4",
   "metadata": {},
   "source": [
    "### Class Distribution Analysis\n",
    "Comparing class balance in training and test sets"
   ]
  },
  {
   "cell_type": "code",
   "execution_count": null,
   "id": "14f31eb6",
   "metadata": {
    "lines_to_next_cell": 1
   },
   "outputs": [],
   "source": [
    "# Class distribution visualization\n",
    "fig, ax = plt.subplots(1, 2, figsize=(12, 5))\n",
    "\n",
    "train_counts = y_train.value_counts().sort_index()\n",
    "test_counts = y_test.value_counts().sort_index()\n",
    "\n",
    "ax[0].pie(train_counts, labels=['Denied', 'Approved'], autopct='%1.1f%%')\n",
    "ax[0].set_title('Training Set Class Distribution')\n",
    "\n",
    "ax[1].pie(test_counts, labels=['Denied', 'Approved'], autopct='%1.1f%%')\n",
    "ax[1].set_title('Test Set Class Distribution')\n",
    "\n",
    "plt.show()"
   ]
  },
  {
   "cell_type": "markdown",
   "id": "8a0de9fd",
   "metadata": {},
   "source": [
    "### Decision Surface Visualization\n",
    "2D decision boundaries using key features"
   ]
  },
  {
   "cell_type": "code",
   "execution_count": null,
   "id": "5b70af77",
   "metadata": {
    "lines_to_next_cell": 1
   },
   "outputs": [],
   "source": [
    "# Decision boundary plot\n",
    "def plot_decision_boundary(X, y, tree):\n",
    "    # Select two most important features\n",
    "    features = ['credit_score', 'income']\n",
    "    X_plot = X[features]\n",
    "    \n",
    "    # Create mesh grid\n",
    "    x_min, x_max = X_plot.iloc[:, 0].min()-1, X_plot.iloc[:, 0].max()+1\n",
    "    y_min, y_max = X_plot.iloc[:, 1].min()-1, X_plot.iloc[:, 1].max()+1\n",
    "    xx, yy = np.meshgrid(np.arange(x_min, x_max, 100),\n",
    "                         np.arange(y_min, y_max, 100))\n",
    "\n",
    "    # Predict for grid points\n",
    "    grid_points = pd.DataFrame(np.c_[xx.ravel(), yy.ravel()], \n",
    "                              columns=features)\n",
    "    Z = predict(grid_points, tree, y_train)\n",
    "    Z = Z.values.reshape(xx.shape)\n",
    "\n",
    "    # Plot decision surface\n",
    "    plt.figure(figsize=(10, 6))\n",
    "    plt.contourf(xx, yy, Z, alpha=0.4, cmap='coolwarm')\n",
    "    plt.scatter(X_plot.iloc[:, 0], X_plot.iloc[:, 1], c=y, \n",
    "                edgecolor='k', cmap='coolwarm')\n",
    "    plt.xlabel('Credit Score')\n",
    "    plt.ylabel('Income')\n",
    "    plt.title('Decision Boundary Visualization')\n",
    "    plt.show()\n",
    "\n",
    "plot_decision_boundary(X_test, y_test, tree)"
   ]
  },
  {
   "cell_type": "markdown",
   "id": "aaa5d133",
   "metadata": {},
   "source": [
    "### Feature Importance Analysis\n",
    "Visualizing feature importance based on split frequency"
   ]
  },
  {
   "cell_type": "code",
   "execution_count": null,
   "id": "858eb6ab",
   "metadata": {},
   "outputs": [],
   "source": [
    "# Feature importance visualization\n",
    "def get_feature_importance(tree):\n",
    "    importance = {feature: 0 for feature in X.columns}\n",
    "    for node in tree:\n",
    "        if len(node) == 3:\n",
    "            importance[X.columns[node[2]]] += 1\n",
    "    \n",
    "    plt.figure(figsize=(10, 5))\n",
    "    pd.Series(importance).sort_values().plot(kind='barh')\n",
    "    plt.title('Feature Importance Based on Split Frequency')\n",
    "    plt.xlabel('Number of Splits')\n",
    "    plt.ylabel('Features')\n",
    "    plt.show()\n",
    "\n",
    "get_feature_importance(tree)"
   ]
  }
 ],
 "metadata": {
  "jupytext": {
   "cell_metadata_filter": "-all",
   "main_language": "python",
   "notebook_metadata_filter": "-all"
  }
 },
 "nbformat": 4,
 "nbformat_minor": 5
}
